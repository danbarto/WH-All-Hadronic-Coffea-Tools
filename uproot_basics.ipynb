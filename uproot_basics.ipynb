{
 "cells": [
  {
   "cell_type": "code",
   "execution_count": 3,
   "metadata": {},
   "outputs": [],
   "source": [
    "import uproot\n",
    "import awkward\n",
    "import numpy as np\n",
    "from uproot_methods import TLorentzVectorArray\n",
    "\n",
    "from coffea.processor import LazyDataFrame\n",
    "from coffea.analysis_objects import JaggedCandidateArray"
   ]
  },
  {
   "cell_type": "code",
   "execution_count": 4,
   "metadata": {},
   "outputs": [],
   "source": [
    "fn = '/hadoop/cms/store/user/mbryson/WH_hadronic/WH_had_750_1/nanoAOD/MBv93/WH_had_750_1__nanoAOD/merged/WH_had_750_1__nanoAOD_1.root'\n",
    "\n",
    "file = uproot.open(fn)"
   ]
  },
  {
   "cell_type": "code",
   "execution_count": 5,
   "metadata": {},
   "outputs": [],
   "source": [
    "tree = file['Events']\n",
    "df = LazyDataFrame(tree, flatten=True)\n",
    "\n",
    "jets = JaggedCandidateArray.candidatesfromcounts(\n",
    "    df['nJet'],\n",
    "    pt=df['Jet_pt'],\n",
    "    eta=df['Jet_eta'],\n",
    "    phi=df['Jet_phi'],\n",
    "    mass=df['Jet_mass'],\n",
    "    btag=df['Jet_btagDeepB'],\n",
    "    #ctag=df['Jet_btagDeepC'],\n",
    ")\n",
    "muons = JaggedCandidateArray.candidatesfromcounts(\n",
    "    df['nMuon'],\n",
    "    pt=df['Muon_pt'],\n",
    "    eta=df['Muon_eta'],\n",
    "    phi=df['Muon_phi'],\n",
    "    mass= 0 * df['Muon_pt'],\n",
    ")"
   ]
  },
  {
   "cell_type": "code",
   "execution_count": 6,
   "metadata": {},
   "outputs": [
    {
     "name": "stdout",
     "output_type": "stream",
     "text": [
      "[[545.5 500.0 96.75 ... 21.359375 21.140625 16.703125] [557.0 386.5 17.09375 15.296875] [181.625 169.125 120.5625 44.3125 29.765625 17.84375] ... [253.25 154.625 118.1875 ... 18.8125 15.4375 15.328125] [411.5 151.75 31.953125 ... 17.046875 15.8359375 15.265625] [548.0 284.0 44.21875]]\n"
     ]
    }
   ],
   "source": [
    "print(jets.pt)"
   ]
  },
  {
   "cell_type": "code",
   "execution_count": 7,
   "metadata": {},
   "outputs": [
    {
     "name": "stdout",
     "output_type": "stream",
     "text": [
      "[[92.8125] [557.0] [] ... [154.625 81.75] [411.5 151.75] [284.0]]\n"
     ]
    }
   ],
   "source": [
    "bjcut = ((jets.pt>30) & (abs(jets.eta)<2.4) & (jets.btag>0.4184))\n",
    "bjets = jets[bjcut]\n",
    "bjetpt = bjets.pt\n",
    "\n",
    "print(bjetpt)"
   ]
  },
  {
   "cell_type": "code",
   "execution_count": 8,
   "metadata": {},
   "outputs": [
    {
     "name": "stdout",
     "output_type": "stream",
     "text": [
      "[[92.8125] [557.0] [] ... [154.625 81.75] [411.5 151.75] [284.0]]\n"
     ]
    }
   ],
   "source": [
    "bjetpt_sorted = bjetpt.argsort(ascending=False)\n",
    "leadbjet = bjets[bjetpt_sorted==0]\n",
    "subleadbjet = bjets[bjetpt_sorted==1]\n",
    "leadbjets = bjets[bjetpt_sorted <= 1]\n",
    "    \n",
    "print(leadbjets.pt)"
   ]
  },
  {
   "cell_type": "code",
   "execution_count": 9,
   "metadata": {},
   "outputs": [
    {
     "name": "stdout",
     "output_type": "stream",
     "text": [
      "[[416.0242] [744.61383] [] ... [580.8889 388.67062] [916.20306 521.55975] [495.392]]\n"
     ]
    }
   ],
   "source": [
    "dphi_leadbs_met = abs((leadbjets.phi - df['MET_phi'] + np.pi) % (2 * np.pi) - np.pi)\n",
    "mt_b_met = np.sqrt(2*leadbjets.pt*df['MET_pt']*(1-np.cos(dphi_leadbs_met)))\n",
    "        \n",
    "print(mt_b_met)"
   ]
  },
  {
   "cell_type": "code",
   "execution_count": 10,
   "metadata": {},
   "outputs": [
    {
     "name": "stdout",
     "output_type": "stream",
     "text": [
      "[[416.0242] [744.61383] [] ... [388.67062] [521.55975] [495.392]]\n"
     ]
    }
   ],
   "source": [
    "sorted_min_mt_b_met = mt_b_met.argsort(ascending=True)\n",
    "\n",
    "min_mt_b_met = mt_b_met[sorted_min_mt_b_met == 0]\n",
    "\n",
    "print(min_mt_b_met)"
   ]
  },
  {
   "cell_type": "code",
   "execution_count": 14,
   "metadata": {},
   "outputs": [],
   "source": [
    "mt_sel = (min_mt_b_met > 200).any()"
   ]
  },
  {
   "cell_type": "code",
   "execution_count": 15,
   "metadata": {},
   "outputs": [
    {
     "name": "stdout",
     "output_type": "stream",
     "text": [
      "[[416.0242] [744.61383] [505.925] ... [388.67062] [521.55975] [495.392]]\n"
     ]
    }
   ],
   "source": [
    "print(min_mt_b_met[mt_sel])"
   ]
  },
  {
   "cell_type": "code",
   "execution_count": 16,
   "metadata": {},
   "outputs": [
    {
     "data": {
      "text/plain": [
       "array([4.932786e-08, 4.932786e-08, 4.932786e-08, ..., 4.932786e-08,\n",
       "       4.932786e-08, 4.932786e-08], dtype=float32)"
      ]
     },
     "execution_count": 16,
     "metadata": {},
     "output_type": "execute_result"
    }
   ],
   "source": [
    "df['weight'][mt_sel]"
   ]
  },
  {
   "cell_type": "code",
   "execution_count": null,
   "metadata": {},
   "outputs": [],
   "source": []
  }
 ],
 "metadata": {
  "kernelspec": {
   "display_name": "Python 3",
   "language": "python",
   "name": "python3"
  },
  "language_info": {
   "codemirror_mode": {
    "name": "ipython",
    "version": 3
   },
   "file_extension": ".py",
   "mimetype": "text/x-python",
   "name": "python",
   "nbconvert_exporter": "python",
   "pygments_lexer": "ipython3",
   "version": "3.8.3"
  }
 },
 "nbformat": 4,
 "nbformat_minor": 4
}
