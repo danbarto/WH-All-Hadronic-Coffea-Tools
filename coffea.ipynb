{
 "cells": [
  {
   "cell_type": "code",
   "execution_count": 42,
   "metadata": {
    "collapsed": true
   },
   "outputs": [],
   "source": [
    "import os\n",
    "import time\n",
    "import glob\n",
    "import re\n",
    "from functools import reduce\n",
    "from klepto.archives import dir_archive\n",
    "import numpy as np\n",
    "import uproot\n",
    "import uproot_methods\n",
    "import awkward\n",
    "import pandas as pd\n",
    "\n",
    "import coffea.processor as processor\n",
    "from coffea.processor.accumulator import AccumulatorABC\n",
    "from coffea import hist\n",
    "\n",
    "%matplotlib inline\n",
    "import matplotlib.pyplot as plt"
   ]
  },
  {
   "cell_type": "code",
   "execution_count": 66,
   "metadata": {},
   "outputs": [],
   "source": [
    "#define processor\n",
    "\n",
    "class WHhadProcessor(processor.ProcessorABC):\n",
    "    def __init__(self):\n",
    "        \n",
    "        #define bins\n",
    "        dataset_axis         = hist.Cat(\"dataset\", \"Primary dataset\")\n",
    "        pt_axis              = hist.Bin(\"pt\", r\"$p_{T}$ (GeV)\", 600, 0, 2000)\n",
    "        mass_axis            = hist.Bin(\"mass\", r\"$mass$ (GeV)\", 600, 0, 2000)\n",
    "        eta_axis             = hist.Bin(\"eta\", r\"$\\eta$\", 60, -5.5, 5.5)\n",
    "        multiplicity_axis    = hist.Bin(\"multiplicity\", r\"N\", 20, -0.5, 19.5)\n",
    "        \n",
    "        #define dictionary for plots\n",
    "        self._accumulator = processor.dict_accumulator({\n",
    "            \"MET_pt\":           hist.Hist(\"Counts\", dataset_axis, pt_axis),\n",
    "            \"Jet_pt\" :          hist.Hist(\"Counts\", dataset_axis, pt_axis),\n",
    "            \"Jet_eta\" :         hist.Hist(\"Counts\", dataset_axis, eta_axis),\n",
    "            \"Jet_mass\":         hist.Hist(\"Counts\", dataset_axis, mass_axis),\n",
    "            \"N_B\" :             hist.Hist(\"Counts\", dataset_axis, multiplicity_axis),\n",
    "            \"N_Jet\" :           hist.Hist(\"Counts\", dataset_axis, multiplicity_axis),\n",
    "            \"N_FatJet\" :        hist.Hist(\"Counts\", dataset_axis, multiplicity_axis),\n",
    "            \"FatJet_pt\" :       hist.Hist(\"Counts\", dataset_axis, pt_axis),\n",
    "            \"MT_FatJet\":        hist.Hist(\"Counts\", dataset_axis, mass_axis),\n",
    "            \"MT_W_FatJet\":      hist.Hist(\"Counts\", dataset_axis, mass_axis),\n",
    "            \"MT_H_FatJet\":      hist.Hist(\"Counts\", dataset_axis, mass_axis),\n",
    "            \"N_fatjet_W\" :      hist.Hist(\"Counts\", dataset_axis, multiplicity_axis),\n",
    "            \"N_fatjet_H\" :      hist.Hist(\"Counts\", dataset_axis, multiplicity_axis),\n",
    "            \"HT\":               hist.Hist(\"Counts\", dataset_axis, pt_axis),\n",
    "            \"Mass_Hbb\":         hist.Hist(\"Counts\", dataset_axis, mass_axis),\n",
    "            \"Mass_Hbb_sd\":      hist.Hist(\"Counts\", dataset_axis, mass_axis),\n",
    "            \"Mass_Wqq\":         hist.Hist(\"Counts\", dataset_axis, mass_axis),\n",
    "            \"Mass_Wqq_sd\":      hist.Hist(\"Counts\", dataset_axis, mass_axis)\n",
    "            })\n",
    "\n",
    "    \n",
    "    @property\n",
    "    def accumulator(self):\n",
    "        return self._accumulator\n",
    "\n",
    "    \n",
    "    def process(self, df):\n",
    "        \n",
    "        output = self.accumulator.identity()\n",
    "        \n",
    "        dataset = df['dataset']\n",
    "        \n",
    "        \n",
    "        #PRESELECTION\n",
    "        met_ps = (df['MET_pt']>250)\n",
    "        njet_ps = (df['nJet'] >2)\n",
    "        bjet_ps = (df['nGoodBTag'] > 1)\n",
    "        tauveto_ps = (df['nVetoTau'] == 0)\n",
    "        isotrackveto_ps = (df['nVetoIsoTrack'] == 0)\n",
    "        \n",
    "        presel = met_ps & njet_ps & bjet_ps & tauveto_ps & isotrackveto_ps\n",
    "        \n",
    "        #DEFINE VARIABLES \n",
    "        \n",
    "            #jets\n",
    "        jets = awkward.JaggedArray.zip(pt=df['Jet_pt'], eta=df['Jet_eta'], phi=df['Jet_phi'], btag=df['Jet_btagDeepB'], jetid=df['Jet_jetId'], mass=df['Jet_mass'], n=df['nJet'])\n",
    "        goodjets = jets[(jets['pt']>30) & (abs(jets['eta'])<2.4) & (jets['jetid']>0) ]\n",
    "        bjets = jets[(jets['pt']>30) & (abs(jets['eta'])<2.4) & (jets['jetid']>0) & (jets['btag']>0.4184) ]\n",
    "        fatjets = awkward.JaggedArray.zip(pt=df['FatJet_pt'], eta=df['FatJet_eta'], phi=df['FatJet_phi'], mass=df['FatJet_mass'], softdrop=df[\"FatJet_msoftdrop\"], btag=df['FatJet_btagDeepB'], n=df['nFatJet'],fromH = df['FatJet_deepTagMD_HbbvsQCD'], fromW = df['FatJet_deepTagMD_WvsQCD'], fatjetid=df['FatJet_jetId'])\n",
    "        goodfatjets = fatjets[(fatjets['pt'] > 200) & (fatjets['fatjetid']>0)]\n",
    "        fatjet_fromW = fatjets[(fatjets['n']>1) & (fatjets['pt'] > 200) & (fatjets['fatjetid']>0) & (fatjets['fromW'] > 0.9)]\n",
    "        fatjet_fromH = fatjets[(fatjets['n']>1) & (fatjets['pt'] > 200) & (fatjets['fatjetid']>0) & (fatjets['fromH'] > 0.8365)]\n",
    "\n",
    "        \n",
    "            #mt\n",
    "        deltaphi_fatjet_met = fatjets['phi'] - df[\"MET_phi\"]\n",
    "        mt_fatjet_met = np.sqrt(2*fatjets['pt']*df[\"MET_pt\"]*(1-np.cos(deltaphi_fatjet_met)))\n",
    "        \n",
    "        \n",
    "        #DEFINE SELECTION\n",
    "        fatjet_W_sel = ((fatjets['n']>1) & (fatjets['pt'] > 200) & (fatjets['fatjetid']>0) & (fatjets['fromW'] > 0.9))\n",
    "        fatjet_H_sel = ((fatjets['n']>1) & (fatjets['pt'] > 200) & (fatjets['fatjetid']>0) & (fatjets['fromH'] > 0.8365))\n",
    "\n",
    "        \n",
    "        #FILL OUTPUTS\n",
    "        output['MET_pt'].fill(dataset=dataset, pt=df[\"MET_pt\"][presel].flatten(),\n",
    "                              weight=df['weight'][presel])\n",
    "        \n",
    "        output['Jet_pt'].fill(dataset=dataset, pt=df[\"Jet_pt\"][presel].max().flatten(),weight=df['weight'][presel]) # maximum jet pt\n",
    "        output['Jet_eta'].fill(dataset=dataset, eta=df[\"Jet_eta\"][presel].flatten())\n",
    "        output['Jet_mass'].fill(dataset=dataset, mass=df[\"Jet_mass\"][presel].flatten())\n",
    "        output['N_Jet'].fill(dataset=dataset, multiplicity=goodjets[presel].counts)        \n",
    "        output['N_B'].fill(dataset=dataset, multiplicity=bjets[presel].counts)\n",
    "        output['N_FatJet'].fill(dataset=dataset, multiplicity=goodfatjets[presel].counts)\n",
    "        output['FatJet_pt'].fill(dataset=dataset, pt=df[\"FatJet_pt\"][presel].max().flatten(),weight=df['weight'][presel]) # maximum jet pt\n",
    "        \n",
    "        output['MT_FatJet'].fill(dataset=dataset, mass=mt_fatjet_met[presel].flatten())\n",
    "               \n",
    "        output['N_fatjet_W'].fill(dataset=dataset, multiplicity=fatjet_fromW[presel].counts)\n",
    "        output['N_fatjet_H'].fill(dataset=dataset, multiplicity=fatjet_fromH[presel].counts)\n",
    "        \n",
    "        output['MT_W_FatJet'].fill(dataset=dataset, mass=mt_fatjet_met[fatjet_W_sel][presel].flatten())\n",
    "        output['MT_H_FatJet'].fill(dataset=dataset, mass=mt_fatjet_met[fatjet_H_sel][presel].flatten())\n",
    "\n",
    "        output['HT'].fill(dataset=dataset,pt=goodjets['pt'][presel].sum().flatten())\n",
    "         \n",
    "        output['Mass_Hbb'].fill(dataset=dataset, mass=fatjets['mass'][fatjet_H_sel][presel].flatten())\n",
    "        output['Mass_Hbb_sd'].fill(dataset=dataset, mass=fatjets['softdrop'][fatjet_H_sel][presel].flatten())\n",
    "        output['Mass_Wqq'].fill(dataset=dataset, mass=fatjets['mass'][fatjet_W_sel][presel].flatten())\n",
    "        output['Mass_Wqq_sd'].fill(dataset=dataset, mass=fatjets['softdrop'][fatjet_W_sel][presel].flatten())\n",
    "        \n",
    "        return output\n",
    "\n",
    "    \n",
    "    def postprocess(self, accumulator):\n",
    "        return accumulator\n",
    "        "
   ]
  },
  {
   "cell_type": "code",
   "execution_count": 67,
   "metadata": {
    "scrolled": true
   },
   "outputs": [
    {
     "data": {
      "application/vnd.jupyter.widget-view+json": {
       "model_id": "12808882be8845309686fdce276cccce"
      }
     },
     "metadata": {},
     "output_type": "display_data"
    },
    {
     "name": "stdout",
     "output_type": "stream",
     "text": [
      "\n"
     ]
    }
   ],
   "source": [
    "histograms = [\"MET_pt\", \"Jet_pt\", \"Jet_eta\",\"Jet_mass\", \"N_B\", \"N_Jet\", \"N_FatJet\", \n",
    "              \"FatJet_pt\", \"MT_FatJet\", \"N_fatjet_W\", \"N_fatjet_H\", \"MT_W_FatJet\", \n",
    "              \"MT_H_FatJet\", \"HT\", \"Mass_Hbb\", \"Mass_Hbb_sd\", \"Mass_Wqq\", \"Mass_Wqq_sd\"]\n",
    "\n",
    "fileset = {'mC750_mL1': ['/Users/mirandabryson/coffea/WHfiles/WH_had_750_1__nanoAOD_1.root'],\n",
    "          #'TThad': ['/Users/mirandabryson/coffea/data/AF7356E5-7B61-E14A-A782-B4D7F1B1C4EA.root']\n",
    "          }\n",
    "\n",
    "output = processor.run_uproot_job(fileset,\n",
    "                                    treename='Events',\n",
    "                                    processor_instance=WHhadProcessor(),\n",
    "                                    executor=processor.futures_executor,\n",
    "                                    executor_args={'workers': 24, 'function_args': {'flatten': False}},\n",
    "                                    chunksize=500000,\n",
    "                                 )\n",
    "     \n",
    "outdir = \"/Users/mirandabryson/coffea/plots\"\n"
   ]
  },
  {
   "cell_type": "code",
   "execution_count": 71,
   "metadata": {},
   "outputs": [
    {
     "name": "stdout",
     "output_type": "stream",
     "text": [
      "MET_pt\n",
      "Jet_pt\n",
      "Jet_eta\n"
     ]
    },
    {
     "name": "stderr",
     "output_type": "stream",
     "text": [
      "/Users/mirandabryson/anaconda/lib/python3.6/site-packages/mplhep/_deprecate.py:56: DeprecationWarning: kwarg \"densitymode\" in function \"histplot\" is deprecated and may be removed in future versions: \"unit\"mode is not useful\n",
      "  return func(*args, **kwargs)\n",
      "/Users/mirandabryson/anaconda/lib/python3.6/site-packages/mplhep/_deprecate.py:56: DeprecationWarning: kwarg \"densitymode\" in function \"histplot\" is deprecated and may be removed in future versions: \"unit\"mode is not useful\n",
      "  return func(*args, **kwargs)\n",
      "/Users/mirandabryson/anaconda/lib/python3.6/site-packages/mplhep/_deprecate.py:56: DeprecationWarning: kwarg \"densitymode\" in function \"histplot\" is deprecated and may be removed in future versions: \"unit\"mode is not useful\n",
      "  return func(*args, **kwargs)\n"
     ]
    },
    {
     "name": "stdout",
     "output_type": "stream",
     "text": [
      "Jet_mass\n",
      "N_B\n",
      "N_Jet\n"
     ]
    },
    {
     "name": "stderr",
     "output_type": "stream",
     "text": [
      "/Users/mirandabryson/anaconda/lib/python3.6/site-packages/mplhep/_deprecate.py:56: DeprecationWarning: kwarg \"densitymode\" in function \"histplot\" is deprecated and may be removed in future versions: \"unit\"mode is not useful\n",
      "  return func(*args, **kwargs)\n",
      "/Users/mirandabryson/anaconda/lib/python3.6/site-packages/mplhep/_deprecate.py:56: DeprecationWarning: kwarg \"densitymode\" in function \"histplot\" is deprecated and may be removed in future versions: \"unit\"mode is not useful\n",
      "  return func(*args, **kwargs)\n",
      "/Users/mirandabryson/anaconda/lib/python3.6/site-packages/mplhep/_deprecate.py:56: DeprecationWarning: kwarg \"densitymode\" in function \"histplot\" is deprecated and may be removed in future versions: \"unit\"mode is not useful\n",
      "  return func(*args, **kwargs)\n"
     ]
    },
    {
     "name": "stdout",
     "output_type": "stream",
     "text": [
      "N_FatJet\n",
      "FatJet_pt\n",
      "MT_FatJet\n"
     ]
    },
    {
     "name": "stderr",
     "output_type": "stream",
     "text": [
      "/Users/mirandabryson/anaconda/lib/python3.6/site-packages/mplhep/_deprecate.py:56: DeprecationWarning: kwarg \"densitymode\" in function \"histplot\" is deprecated and may be removed in future versions: \"unit\"mode is not useful\n",
      "  return func(*args, **kwargs)\n",
      "/Users/mirandabryson/anaconda/lib/python3.6/site-packages/mplhep/_deprecate.py:56: DeprecationWarning: kwarg \"densitymode\" in function \"histplot\" is deprecated and may be removed in future versions: \"unit\"mode is not useful\n",
      "  return func(*args, **kwargs)\n",
      "/Users/mirandabryson/anaconda/lib/python3.6/site-packages/mplhep/_deprecate.py:56: DeprecationWarning: kwarg \"densitymode\" in function \"histplot\" is deprecated and may be removed in future versions: \"unit\"mode is not useful\n",
      "  return func(*args, **kwargs)\n"
     ]
    },
    {
     "name": "stdout",
     "output_type": "stream",
     "text": [
      "N_fatjet_W\n",
      "N_fatjet_H\n",
      "MT_W_FatJet\n"
     ]
    },
    {
     "name": "stderr",
     "output_type": "stream",
     "text": [
      "/Users/mirandabryson/anaconda/lib/python3.6/site-packages/mplhep/_deprecate.py:56: DeprecationWarning: kwarg \"densitymode\" in function \"histplot\" is deprecated and may be removed in future versions: \"unit\"mode is not useful\n",
      "  return func(*args, **kwargs)\n",
      "/Users/mirandabryson/anaconda/lib/python3.6/site-packages/mplhep/_deprecate.py:56: DeprecationWarning: kwarg \"densitymode\" in function \"histplot\" is deprecated and may be removed in future versions: \"unit\"mode is not useful\n",
      "  return func(*args, **kwargs)\n",
      "/Users/mirandabryson/anaconda/lib/python3.6/site-packages/mplhep/_deprecate.py:56: DeprecationWarning: kwarg \"densitymode\" in function \"histplot\" is deprecated and may be removed in future versions: \"unit\"mode is not useful\n",
      "  return func(*args, **kwargs)\n"
     ]
    },
    {
     "name": "stdout",
     "output_type": "stream",
     "text": [
      "MT_H_FatJet\n",
      "HT\n",
      "Mass_Hbb\n"
     ]
    },
    {
     "name": "stderr",
     "output_type": "stream",
     "text": [
      "/Users/mirandabryson/anaconda/lib/python3.6/site-packages/mplhep/_deprecate.py:56: DeprecationWarning: kwarg \"densitymode\" in function \"histplot\" is deprecated and may be removed in future versions: \"unit\"mode is not useful\n",
      "  return func(*args, **kwargs)\n",
      "/Users/mirandabryson/anaconda/lib/python3.6/site-packages/mplhep/_deprecate.py:56: DeprecationWarning: kwarg \"densitymode\" in function \"histplot\" is deprecated and may be removed in future versions: \"unit\"mode is not useful\n",
      "  return func(*args, **kwargs)\n",
      "/Users/mirandabryson/anaconda/lib/python3.6/site-packages/mplhep/_deprecate.py:56: DeprecationWarning: kwarg \"densitymode\" in function \"histplot\" is deprecated and may be removed in future versions: \"unit\"mode is not useful\n",
      "  return func(*args, **kwargs)\n"
     ]
    },
    {
     "name": "stdout",
     "output_type": "stream",
     "text": [
      "Mass_Hbb_sd\n",
      "Mass_Wqq\n",
      "Mass_Wqq_sd\n"
     ]
    },
    {
     "name": "stderr",
     "output_type": "stream",
     "text": [
      "/Users/mirandabryson/anaconda/lib/python3.6/site-packages/mplhep/_deprecate.py:56: DeprecationWarning: kwarg \"densitymode\" in function \"histplot\" is deprecated and may be removed in future versions: \"unit\"mode is not useful\n",
      "  return func(*args, **kwargs)\n",
      "/Users/mirandabryson/anaconda/lib/python3.6/site-packages/mplhep/_deprecate.py:56: DeprecationWarning: kwarg \"densitymode\" in function \"histplot\" is deprecated and may be removed in future versions: \"unit\"mode is not useful\n",
      "  return func(*args, **kwargs)\n",
      "/Users/mirandabryson/anaconda/lib/python3.6/site-packages/mplhep/_deprecate.py:56: DeprecationWarning: kwarg \"densitymode\" in function \"histplot\" is deprecated and may be removed in future versions: \"unit\"mode is not useful\n",
      "  return func(*args, **kwargs)\n"
     ]
    },
    {
     "data": {
      "image/png": "[encoded data removed]",
      "text/plain": [
       "<Figure size 432x288 with 1 Axes>"
      ]
     },
     "metadata": {},
     "output_type": "display_data"
    }
   ],
   "source": [
    "for name in histograms:\n",
    "        print (name)\n",
    "        histogram = output[name]\n",
    "        #rebinning\n",
    "        if name == 'MET_pt':\n",
    "            new_met_bins = hist.Bin('pt', r'$E_T^{miss} \\ (GeV)$', 20, 0, 1400)\n",
    "            histogram = histogram.rebin('pt', new_met_bins)\n",
    "        if name == 'Jet_pt':\n",
    "            new_jetpt_bins = hist.Bin('pt', r'Jet $p_T (GeV)$', 50, 0 , 1000)\n",
    "            histogram = histogram.rebin('pt', new_jetpt_bins)\n",
    "        if name == 'FatJet_pt':\n",
    "            new_fatjetpt_bins = hist.Bin('pt', r'FatJet $p_T (GeV)$', 50, 0 , 1000)\n",
    "            histogram = histogram.rebin('pt', new_fatjetpt_bins)\n",
    "        if name == 'Jet_mass':\n",
    "            new_jetmass_bins = hist.Bin('mass', r'Jet $Mass (GeV)$', 20, 0, 200)\n",
    "            histogram = histogram.rebin('mass', new_jetmass_bins)\n",
    "        if name == 'N_B':\n",
    "            new_nb_bins = hist.Bin('multiplicity', r'$N_{Bjets}$', 6, -0.5 , 5.5)\n",
    "            histogram = histogram.rebin('multiplicity', new_nb_bins)\n",
    "        if name == 'N_Jet':\n",
    "            new_njet_bins = hist.Bin('multiplicity', r'$N_{jets}$', 11, -0.5 , 10.5)\n",
    "            histogram = histogram.rebin('multiplicity', new_njet_bins)\n",
    "        if name == 'N_FatJet':\n",
    "            new_nfatjet_bins = hist.Bin('multiplicity', r'$N_{fatjets}$', 6, -0.5 , 5.5)\n",
    "            histogram = histogram.rebin('multiplicity', new_nfatjet_bins)\n",
    "        if name == 'N_fatjet_H':\n",
    "            new_nfatjeth_bins = hist.Bin('multiplicity', r'$N_{fatjets}$', 6, -0.5 , 5.5)\n",
    "            histogram = histogram.rebin('multiplicity', new_nfatjeth_bins)\n",
    "        if name == 'N_fatjet_W':\n",
    "            new_nfatjetw_bins = hist.Bin('multiplicity', r'$N_{fatjets}$', 6, -0.5 , 5.5)\n",
    "            histogram = histogram.rebin('multiplicity', new_nfatjetw_bins)\n",
    "        if name == 'MT_FatJet':\n",
    "            new_mtfatjet_bins = hist.Bin('mass', r'$M_T$', 40, 0, 2000)\n",
    "            histogram = histogram.rebin('mass', new_mtfatjet_bins)\n",
    "        if name == 'MT_W_FatJet':\n",
    "            new_mtw_bins = hist.Bin('mass', r'$M_T (W \\rightarrow qq , MET) $ (GeV)', 20, 0, 2000)\n",
    "            histogram = histogram.rebin('mass', new_mtw_bins)\n",
    "        if name == 'MT_H_FatJet':\n",
    "            new_mth_bins = hist.Bin('mass', r'$M_T(H \\rightarrow bb , MET) $(GeV)', 20, 0, 2000)\n",
    "            histogram = histogram.rebin('mass', new_mth_bins)\n",
    "        if name == 'HT':\n",
    "            new_ht_bins = hist.Bin('pt', r'H_T(GeV)$', 20, 200, 2000)\n",
    "            histogram = histogram.rebin('pt', new_ht_bins)\n",
    "        if name == 'Mass_Hbb':\n",
    "            new_masshbb_bins = hist.Bin('mass', r'$M_{H \\rightarrow bb}$ (GeV)', 20, 0, 200)\n",
    "            histogram = histogram.rebin('mass', new_masshbb_bins)\n",
    "        if name == 'Mass_Hbb_sd':\n",
    "            new_masshbbsd_bins = hist.Bin('mass', r'$M_{H \\rightarrow bb} (softdrop) (GeV)$', 20, 0, 200)\n",
    "            histogram = histogram.rebin('mass', new_masshbbsd_bins)\n",
    "        if name == 'Mass_Wqq':\n",
    "            new_masswqq_bins = hist.Bin('mass', r'$M_{W \\rightarrow qq}$ (GeV)', 20, 0, 200)\n",
    "            histogram = histogram.rebin('mass', new_masswqq_bins)\n",
    "        if name == 'Mass_Wqq_sd':\n",
    "            new_masswqqsd_bins = hist.Bin('mass', r'$M_{W \\rightarrow qq} (softdrop) (GeV)$', 20, 0, 200)\n",
    "            histogram = histogram.rebin('mass', new_masswqqsd_bins)\n",
    "            \n",
    "        ax = hist.plot1d(histogram,overlay=\"dataset\", density=False, stack=False, \n",
    "                        fill_opts={'alpha': 0.6, 'edgecolor': (0,0,0,1)}\n",
    "                        ) # make density plots because we don't care about x-sec differences\n",
    "        ax.set_yscale('linear') # can be log\n",
    "        #ax.set_ylim(0,0.1)\n",
    "        ax.figure.savefig(os.path.join(outdir, \"{}.pdf\".format(name)))\n",
    "        ax.clear()\n",
    "\n"
   ]
  },
  {
   "cell_type": "code",
   "execution_count": null,
   "metadata": {
    "collapsed": true
   },
   "outputs": [],
   "source": []
  },
  {
   "cell_type": "code",
   "execution_count": null,
   "metadata": {
    "collapsed": true
   },
   "outputs": [],
   "source": []
  }
 ],
 "metadata": {
  "kernelspec": {
   "display_name": "Python 3",
   "language": "python",
   "name": "python3"
  },
  "language_info": {
   "codemirror_mode": {
    "name": "ipython",
    "version": 3
   },
   "file_extension": ".py",
   "mimetype": "text/x-python",
   "name": "python",
   "nbconvert_exporter": "python",
   "pygments_lexer": "ipython3",
   "version": "3.6.1"
  }
 },
 "nbformat": 4,
 "nbformat_minor": 2
}
