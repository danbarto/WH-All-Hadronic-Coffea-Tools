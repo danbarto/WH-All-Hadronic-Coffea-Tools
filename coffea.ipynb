{
 "cells": [
  {
   "cell_type": "code",
   "execution_count": 1,
   "metadata": {},
   "outputs": [],
   "source": [
    "import os\n",
    "import time\n",
    "import glob\n",
    "import re\n",
    "from functools import reduce\n",
    "import numpy as np\n",
    "import uproot\n",
    "import uproot_methods\n",
    "import awkward\n",
    "import pandas as pd\n",
    "\n",
    "import coffea.processor as processor\n",
    "from coffea.processor.accumulator import AccumulatorABC\n",
    "from coffea import hist\n",
    "\n",
    "%matplotlib inline\n",
    "import matplotlib.pyplot as plt"
   ]
  },
  {
   "cell_type": "code",
   "execution_count": 2,
   "metadata": {},
   "outputs": [],
   "source": [
    "def saveFig( ax, outdir, name, scale='linear' ):\n",
    "    ax.set_yscale(scale)\n",
    "    if scale == 'log':\n",
    "        ax.set_ylim(0.001,1)\n",
    "    ax.figure.savefig(os.path.join(outdir, \"{}.png\".format(name)))\n"
   ]
  },
  {
   "cell_type": "code",
   "execution_count": 3,
   "metadata": {},
   "outputs": [],
   "source": [
    "#define processor\n",
    "\n",
    "class WHhadProcessor(processor.ProcessorABC):\n",
    "    def __init__(self):\n",
    "        \n",
    "        #define bins\n",
    "        dataset_axis         = hist.Cat(\"dataset\", \"Primary dataset\")\n",
    "        pt_axis              = hist.Bin(\"pt\", r\"$p_{T}$ (GeV)\", 500, 0, 2000)\n",
    "        mass_axis            = hist.Bin(\"mass\", r\"$mass$ (GeV)\", 500, 0, 2000)\n",
    "        eta_axis             = hist.Bin(\"eta\", r\"$\\eta$\", 60, -5.5, 5.5)\n",
    "        phi_axis             = hist.Bin(\"phi\", r\"$\\phi$\", 60, -5.5, 5.5)\n",
    "        multiplicity_axis    = hist.Bin(\"multiplicity\", r\"N\", 20, -0.5, 19.5)\n",
    "        \n",
    "        #define dictionary for plots\n",
    "        self._accumulator = processor.dict_accumulator({\n",
    "            \"MET_pt\":           hist.Hist(\"Counts\", dataset_axis, pt_axis),\n",
    "            #\"Jet_pt\" :          hist.Hist(\"Counts\", dataset_axis, pt_axis),\n",
    "            #\"Jet_eta\" :         hist.Hist(\"Counts\", dataset_axis, eta_axis),\n",
    "            #\"Jet_mass\":         hist.Hist(\"Counts\", dataset_axis, mass_axis),\n",
    "            \"nB\" :             hist.Hist(\"Counts\", dataset_axis, multiplicity_axis),\n",
    "            \"nJet\" :           hist.Hist(\"Counts\", dataset_axis, multiplicity_axis),\n",
    "            #\"N_FatJet\" :        hist.Hist(\"Counts\", dataset_axis, multiplicity_axis),\n",
    "            #\"FatJet_pt\" :       hist.Hist(\"Counts\", dataset_axis, pt_axis),\n",
    "            #\"MT_FatJet\":        hist.Hist(\"Counts\", dataset_axis, mass_axis),\n",
    "            #\"MT_W_FatJet\":      hist.Hist(\"Counts\", dataset_axis, mass_axis),\n",
    "            #\"MT_H_FatJet\":      hist.Hist(\"Counts\", dataset_axis, mass_axis),\n",
    "            #\"N_fatjet_W\" :      hist.Hist(\"Counts\", dataset_axis, multiplicity_axis),\n",
    "            #\"N_fatjet_H\" :      hist.Hist(\"Counts\", dataset_axis, multiplicity_axis),\n",
    "            \"HT\":               hist.Hist(\"Counts\", dataset_axis, pt_axis),\n",
    "            #\"Mass_Hbb\":         hist.Hist(\"Counts\", dataset_axis, mass_axis),\n",
    "            #\"Mass_Hbb_sd\":      hist.Hist(\"Counts\", dataset_axis, mass_axis),\n",
    "            #\"Mass_Wqq\":         hist.Hist(\"Counts\", dataset_axis, mass_axis),\n",
    "            #\"Mass_Wqq_sd\":      hist.Hist(\"Counts\", dataset_axis, mass_axis),\n",
    "#            \"Mbb\":              hist.Hist(\"Counts\", dataset_axis, mass_axis),\n",
    "          #  \"MT2_WH\":           hist.Hist(\"Counts\", dataset_axis, mass_axis),\n",
    "          #  \"MT2_bbjj\":         hist.Hist(\"Counts\", dataset_axis, mass_axis),\n",
    "           # \"MT2_bjjb\":         hist.Hist(\"Counts\", dataset_axis, mass_axis),\n",
    "          #  \"MCT\":              hist.Hist(\"Counts\", dataset_axis, mass_axis),\n",
    "#            \"Mjj\":              hist.Hist(\"Counts\", dataset_axis, mass_axis),\n",
    "          #  \"mindphi(leadj,MET)\": hist.Hist(\"Counts\", dataset_axis, phi_axis),\n",
    "          #  \"leadj_pt\":         hist.Hist(\"Counts\", dataset_axis, pt_axis),\n",
    "          #  \"leadbj_pt\":        hist.Hist(\"Counts\", dataset_axis, pt_axis),\n",
    "          #  \"bb_pt\":            hist.Hist(\"Counts\", dataset_axis, pt_axis),\n",
    "         #   \"dphi(bb,MET)\":     hist.Hist(\"Counts\", dataset_axis, phi_axis),\n",
    "         #   \"dphi(bb,jj)\":      hist.Hist(\"Counts\", dataset_axis, phi_axis),\n",
    "            \"nHtag\":            hist.Hist(\"Counts\", dataset_axis, multiplicity_axis),\n",
    "            \"H_pt\":             hist.Hist(\"Counts\", dataset_axis, pt_axis),\n",
    "           # \"dphiWH\":           hist.Hist(\"Counts\", dataset_axis, phi_axis),\n",
    "            \"WHptMET\":          hist.Hist(\"Counts\", dataset_axis, multiplicity_axis)\n",
    "            })\n",
    "\n",
    "    \n",
    "    @property\n",
    "    def accumulator(self):\n",
    "        return self._accumulator\n",
    "\n",
    "    \n",
    "    def process(self, df):\n",
    "        \n",
    "        output = self.accumulator.identity()\n",
    "        \n",
    "        dataset = df['dataset']\n",
    "        \n",
    "        \n",
    "        #PRESELECTION\n",
    "        met_ps = (df['MET_pt']>250)\n",
    "        njet_ps = (df['nJet'] == 4)\n",
    "        bjet_ps = (df['nGoodBTag'] == 2)\n",
    "        tauveto_ps = (df['nVetoTau'] == 0)\n",
    "        isotrackveto_ps = (df['nVetoIsoTrack'] == 0)\n",
    "        mbbup_ps = (df['bb_mass'].min() > 90 )\n",
    "        mbblo_ps = (df['bb_mass'].max() < 150)\n",
    "        \n",
    "        presel = met_ps & njet_ps & bjet_ps & tauveto_ps & isotrackveto_ps & mbbup_ps & mbblo_ps\n",
    "        \n",
    "        #DEFINE VARIABLES \n",
    "        \n",
    "            #jets\n",
    "        jets = awkward.JaggedArray.zip(pt=df['Jet_pt'], eta=df['Jet_eta'], phi=df['Jet_phi'], btag=df['Jet_btagDeepB'], jetid=df['Jet_jetId'], mass=df['Jet_mass'], n=df['nJet'])\n",
    "        goodjets = jets[(jets['pt']>30) & (abs(jets['eta'])<2.4) & (jets['jetid']>0) ]\n",
    "        bjets = jets[(jets['pt']>30) & (abs(jets['eta'])<2.4) & (jets['jetid']>0) & (jets['btag']>0.4184) ]\n",
    "        fatjets = awkward.JaggedArray.zip(pt=df['FatJet_pt'], eta=df['FatJet_eta'], phi=df['FatJet_phi'], mass=df['FatJet_mass'], softdrop=df[\"FatJet_msoftdrop\"], btag=df['FatJet_btagDeepB'], n=df['nFatJet'],fromH = df['FatJet_deepTagMD_HbbvsQCD'], fromW = df['FatJet_deepTagMD_WvsQCD'], fatjetid=df['FatJet_jetId'])\n",
    "        goodfatjets = fatjets[(fatjets['pt'] > 200) & (fatjets['fatjetid']>0)]     \n",
    "\n",
    "        \n",
    "        #FILL OUTPUTS\n",
    "        output['MET_pt'].fill(dataset=dataset, pt=df[\"MET_pt\"][presel].flatten(),\n",
    "                              weight=df['weight'][presel])\n",
    "#        output['Mbb'].fill(dataset=dataset, mass=df[\"bb_mass\"][presel].flatten(),\n",
    "#                               weight=df['weight'][presel])\n",
    "        \n",
    "#        output['Mjj'].fill(dataset=dataset, mass=df[\"jj_mass\"][presel].flatten(),\n",
    "#                              weight=df['weight'][presel])\n",
    "        \n",
    "\n",
    "        output['HT'].fill(dataset=dataset,pt=goodjets['pt'][presel].sum().flatten())\n",
    "        output['nB'].fill(dataset=dataset, multiplicity=bjets[presel].counts)\n",
    "        output['nJet'].fill(dataset=dataset, multiplicity=goodjets[presel].counts)\n",
    "        output['nHtag'].fill(dataset=dataset, multiplicity=df['nFatJetfromH'][presel])\n",
    "        output['H_pt'].fill(dataset=dataset, pt=df['FatJetfromH_pt'][presel].flatten())\n",
    "        output['WHptMET'].fill(dataset=dataset, multiplicity=df['WHptMET'].flatten())\n",
    "\n",
    "        return output\n",
    "\n",
    "    \n",
    "    def postprocess(self, accumulator):\n",
    "        return accumulator\n",
    "        "
   ]
  },
  {
   "cell_type": "code",
   "execution_count": 4,
   "metadata": {
    "scrolled": true
   },
   "outputs": [
    {
     "data": {
      "application/vnd.jupyter.widget-view+json": {
       "model_id": "845fdedbf94b442681c675c9530ca0cc",
       "version_major": 2,
       "version_minor": 0
      },
      "text/plain": [
       "HBox(children=(FloatProgress(value=0.0, description='Preprocessing', max=31.0, style=ProgressStyle(description…"
      ]
     },
     "metadata": {},
     "output_type": "display_data"
    },
    {
     "name": "stdout",
     "output_type": "stream",
     "text": [
      "\n"
     ]
    },
    {
     "data": {
      "application/vnd.jupyter.widget-view+json": {
       "model_id": "5a2b0fcdf630481f945ac3f2c470dca1",
       "version_major": 2,
       "version_minor": 0
      },
      "text/plain": [
       "HBox(children=(FloatProgress(value=0.0, description='Processing', max=62.0, style=ProgressStyle(description_wi…"
      ]
     },
     "metadata": {},
     "output_type": "display_data"
    },
    {
     "name": "stdout",
     "output_type": "stream",
     "text": [
      "\n"
     ]
    }
   ],
   "source": [
    "histograms = [\"MET_pt\",  \"HT\" ,  \"nB\", \"nJet\", \"nHtag\",\"H_pt\", \"WHptMET\"]\n",
    "# \"Mbb\", \"Mjj\"\n",
    "\n",
    "fileset = {'mC750_mL1': ['/hadoop/cms/store/user/mbryson/WH_hadronic/WH_had_750_1/nanoAOD/MBv30/WH_had_750_1__nanoAOD/merged/WH_had_750_1__nanoAOD_1.root'],\n",
    "            'W+Jets': ['/hadoop/cms/store/user/mbryson/WH_hadronic/WH_had_750_1/nanoAOD/MBv30/background__WJetsToLNu_HT-100To200_TuneCUETP8M1_13TeV-madgraphMLM-pythia8__RunIISummer16NanoAODv7-PUMoriond17_Nano02Apr2020_102X_mcRun2_asymptotic_v8-v1/merged/background__WJetsToLNu_HT-100To200_TuneCUETP8M1_13TeV-madgraphMLM-pythia8__RunIISummer16NanoAODv7-PUMoriond17_Nano02Apr2020_102X_mcRun2_asymptotic_v8-v1_1.root',\n",
    "                        '/hadoop/cms/store/user/mbryson/WH_hadronic/WH_had_750_1/nanoAOD/MBv30/background__WJetsToLNu_HT-100To200_TuneCUETP8M1_13TeV-madgraphMLM-pythia8__RunIISummer16NanoAODv7-PUMoriond17_Nano02Apr2020_102X_mcRun2_asymptotic_v8_ext1-v1/merged/background__WJetsToLNu_HT-100To200_TuneCUETP8M1_13TeV-madgraphMLM-pythia8__RunIISummer16NanoAODv7-PUMoriond17_Nano02Apr2020_102X_mcRun2_asymptotic_v8_ext1-v1_1.root',\n",
    "                        '/hadoop/cms/store/user/mbryson/WH_hadronic/WH_had_750_1/nanoAOD/MBv30/background__WJetsToLNu_HT-200To400_TuneCUETP8M1_13TeV-madgraphMLM-pythia8__RunIISummer16NanoAODv7-PUMoriond17_Nano02Apr2020_102X_mcRun2_asymptotic_v8-v1/merged/background__WJetsToLNu_HT-200To400_TuneCUETP8M1_13TeV-madgraphMLM-pythia8__RunIISummer16NanoAODv7-PUMoriond17_Nano02Apr2020_102X_mcRun2_asymptotic_v8-v1_1.root',\n",
    "                        '/hadoop/cms/store/user/mbryson/WH_hadronic/WH_had_750_1/nanoAOD/MBv30/background__WJetsToLNu_HT-200To400_TuneCUETP8M1_13TeV-madgraphMLM-pythia8__RunIISummer16NanoAODv7-PUMoriond17_Nano02Apr2020_102X_mcRun2_asymptotic_v8_ext1-v1/merged/background__WJetsToLNu_HT-200To400_TuneCUETP8M1_13TeV-madgraphMLM-pythia8__RunIISummer16NanoAODv7-PUMoriond17_Nano02Apr2020_102X_mcRun2_asymptotic_v8_ext1-v1_1.root',\n",
    "                        '/hadoop/cms/store/user/mbryson/WH_hadronic/WH_had_750_1/nanoAOD/MBv30/background__WJetsToLNu_HT-400To600_TuneCUETP8M1_13TeV-madgraphMLM-pythia8__RunIISummer16NanoAODv7-PUMoriond17_Nano02Apr2020_102X_mcRun2_asymptotic_v8-v1/merged/background__WJetsToLNu_HT-400To600_TuneCUETP8M1_13TeV-madgraphMLM-pythia8__RunIISummer16NanoAODv7-PUMoriond17_Nano02Apr2020_102X_mcRun2_asymptotic_v8-v1_1.root',\n",
    "                        '/hadoop/cms/store/user/mbryson/WH_hadronic/WH_had_750_1/nanoAOD/MBv30/background__WJetsToLNu_HT-400To600_TuneCUETP8M1_13TeV-madgraphMLM-pythia8__RunIISummer16NanoAODv7-PUMoriond17_Nano02Apr2020_102X_mcRun2_asymptotic_v8_ext1-v1/merged/background__WJetsToLNu_HT-400To600_TuneCUETP8M1_13TeV-madgraphMLM-pythia8__RunIISummer16NanoAODv7-PUMoriond17_Nano02Apr2020_102X_mcRun2_asymptotic_v8_ext1-v1_1.root',\n",
    "                        '/hadoop/cms/store/user/mbryson/WH_hadronic/WH_had_750_1/nanoAOD/MBv30/background__WJetsToLNu_HT-600To800_TuneCUETP8M1_13TeV-madgraphMLM-pythia8__RunIISummer16NanoAODv7-PUMoriond17_Nano02Apr2020_102X_mcRun2_asymptotic_v8-v1/merged/background__WJetsToLNu_HT-600To800_TuneCUETP8M1_13TeV-madgraphMLM-pythia8__RunIISummer16NanoAODv7-PUMoriond17_Nano02Apr2020_102X_mcRun2_asymptotic_v8-v1_1.root',\n",
    "                        '/hadoop/cms/store/user/mbryson/WH_hadronic/WH_had_750_1/nanoAOD/MBv30/background__WJetsToLNu_HT-600To800_TuneCUETP8M1_13TeV-madgraphMLM-pythia8__RunIISummer16NanoAODv7-PUMoriond17_Nano02Apr2020_102X_mcRun2_asymptotic_v8_ext1-v1/merged/background__WJetsToLNu_HT-600To800_TuneCUETP8M1_13TeV-madgraphMLM-pythia8__RunIISummer16NanoAODv7-PUMoriond17_Nano02Apr2020_102X_mcRun2_asymptotic_v8_ext1-v1_1.root',\n",
    "                        '/hadoop/cms/store/user/mbryson/WH_hadronic/WH_had_750_1/nanoAOD/MBv30/background__WJetsToLNu_HT-800To1200_TuneCUETP8M1_13TeV-madgraphMLM-pythia8__RunIISummer16NanoAODv7-PUMoriond17_Nano02Apr2020_102X_mcRun2_asymptotic_v8-v1/merged/background__WJetsToLNu_HT-800To1200_TuneCUETP8M1_13TeV-madgraphMLM-pythia8__RunIISummer16NanoAODv7-PUMoriond17_Nano02Apr2020_102X_mcRun2_asymptotic_v8-v1_1.root',\n",
    "                        '/hadoop/cms/store/user/mbryson/WH_hadronic/WH_had_750_1/nanoAOD/MBv30/background__WJetsToLNu_HT-800To1200_TuneCUETP8M1_13TeV-madgraphMLM-pythia8__RunIISummer16NanoAODv7-PUMoriond17_Nano02Apr2020_102X_mcRun2_asymptotic_v8_ext1-v1/merged/background__WJetsToLNu_HT-800To1200_TuneCUETP8M1_13TeV-madgraphMLM-pythia8__RunIISummer16NanoAODv7-PUMoriond17_Nano02Apr2020_102X_mcRun2_asymptotic_v8_ext1-v1_1.root',\n",
    "                        '/hadoop/cms/store/user/mbryson/WH_hadronic/WH_had_750_1/nanoAOD/MBv30/background__WJetsToLNu_HT-1200To2500_TuneCUETP8M1_13TeV-madgraphMLM-pythia8__RunIISummer16NanoAODv7-PUMoriond17_Nano02Apr2020_102X_mcRun2_asymptotic_v8-v1/merged/background__WJetsToLNu_HT-1200To2500_TuneCUETP8M1_13TeV-madgraphMLM-pythia8__RunIISummer16NanoAODv7-PUMoriond17_Nano02Apr2020_102X_mcRun2_asymptotic_v8-v1_1.root',\n",
    "                        '/hadoop/cms/store/user/mbryson/WH_hadronic/WH_had_750_1/nanoAOD/MBv30/background__WJetsToLNu_HT-1200To2500_TuneCUETP8M1_13TeV-madgraphMLM-pythia8__RunIISummer16NanoAODv7-PUMoriond17_Nano02Apr2020_102X_mcRun2_asymptotic_v8_ext1-v1/merged/background__WJetsToLNu_HT-1200To2500_TuneCUETP8M1_13TeV-madgraphMLM-pythia8__RunIISummer16NanoAODv7-PUMoriond17_Nano02Apr2020_102X_mcRun2_asymptotic_v8_ext1-v1_1.root',\n",
    "                        '/hadoop/cms/store/user/mbryson/WH_hadronic/WH_had_750_1/nanoAOD/MBv30/background__WJetsToLNu_HT-2500ToInf_TuneCUETP8M1_13TeV-madgraphMLM-pythia8__RunIISummer16NanoAODv7-PUMoriond17_Nano02Apr2020_102X_mcRun2_asymptotic_v8-v1/merged/background__WJetsToLNu_HT-2500ToInf_TuneCUETP8M1_13TeV-madgraphMLM-pythia8__RunIISummer16NanoAODv7-PUMoriond17_Nano02Apr2020_102X_mcRun2_asymptotic_v8-v1_1.root',\n",
    "                        '/hadoop/cms/store/user/mbryson/WH_hadronic/WH_had_750_1/nanoAOD/MBv30/background__WJetsToLNu_HT-2500ToInf_TuneCUETP8M1_13TeV-madgraphMLM-pythia8__RunIISummer16NanoAODv7-PUMoriond17_Nano02Apr2020_102X_mcRun2_asymptotic_v8_ext1-v1/merged/background__WJetsToLNu_HT-2500ToInf_TuneCUETP8M1_13TeV-madgraphMLM-pythia8__RunIISummer16NanoAODv7-PUMoriond17_Nano02Apr2020_102X_mcRun2_asymptotic_v8_ext1-v1_1.root',\n",
    "                        '/hadoop/cms/store/user/mbryson/WH_hadronic/WH_had_750_1/nanoAOD/MBv30/background__WJetsToLNu_TuneCUETP8M1_13TeV-madgraphMLM-pythia8__RunIISummer16NanoAODv7-PUMoriond17_Nano02Apr2020_102X_mcRun2_asymptotic_v8-v1/merged/background__WJetsToLNu_TuneCUETP8M1_13TeV-madgraphMLM-pythia8__RunIISummer16NanoAODv7-PUMoriond17_Nano02Apr2020_102X_mcRun2_asymptotic_v8-v1_1.root'\n",
    "                         ],\n",
    "                'QCD':['/hadoop/cms/store/user/mbryson/WH_hadronic/WH_had_750_1/nanoAOD/MBv30/background__QCD_HT500to700_TuneCUETP8M1_13TeV-madgraphMLM-pythia8__RunIISummer16NanoAODv7-PUMoriond17_Nano02Apr2020_102X_mcRun2_asymptotic_v8-v1/merged/background__QCD_HT500to700_TuneCUETP8M1_13TeV-madgraphMLM-pythia8__RunIISummer16NanoAODv7-PUMoriond17_Nano02Apr2020_102X_mcRun2_asymptotic_v8-v1_1.root',\n",
    "                       '/hadoop/cms/store/user/mbryson/WH_hadronic/WH_had_750_1/nanoAOD/MBv30/background__QCD_HT500to700_TuneCUETP8M1_13TeV-madgraphMLM-pythia8__RunIISummer16NanoAODv7-PUMoriond17_Nano02Apr2020_102X_mcRun2_asymptotic_v8_ext1-v1/merged/background__QCD_HT500to700_TuneCUETP8M1_13TeV-madgraphMLM-pythia8__RunIISummer16NanoAODv7-PUMoriond17_Nano02Apr2020_102X_mcRun2_asymptotic_v8_ext1-v1_1.root',\n",
    "                       '/hadoop/cms/store/user/mbryson/WH_hadronic/WH_had_750_1/nanoAOD/MBv30/background__QCD_HT700to1000_TuneCUETP8M1_13TeV-madgraphMLM-pythia8__RunIISummer16NanoAODv7-PUMoriond17_Nano02Apr2020_102X_mcRun2_asymptotic_v8_ext1-v1/merged/background__QCD_HT700to1000_TuneCUETP8M1_13TeV-madgraphMLM-pythia8__RunIISummer16NanoAODv7-PUMoriond17_Nano02Apr2020_102X_mcRun2_asymptotic_v8_ext1-v1_1.root',\n",
    "                       '/hadoop/cms/store/user/mbryson/WH_hadronic/WH_had_750_1/nanoAOD/MBv30/background__QCD_HT1000to1500_TuneCUETP8M1_13TeV-madgraphMLM-pythia8__RunIISummer16NanoAODv7-PUMoriond17_Nano02Apr2020_102X_mcRun2_asymptotic_v8-v1/merged/background__QCD_HT1000to1500_TuneCUETP8M1_13TeV-madgraphMLM-pythia8__RunIISummer16NanoAODv7-PUMoriond17_Nano02Apr2020_102X_mcRun2_asymptotic_v8-v1_1.root',\n",
    "                       '/hadoop/cms/store/user/mbryson/WH_hadronic/WH_had_750_1/nanoAOD/MBv30/background__QCD_HT1000to1500_TuneCUETP8M1_13TeV-madgraphMLM-pythia8__RunIISummer16NanoAODv7-PUMoriond17_Nano02Apr2020_102X_mcRun2_asymptotic_v8_ext1-v1/merged/background__QCD_HT1000to1500_TuneCUETP8M1_13TeV-madgraphMLM-pythia8__RunIISummer16NanoAODv7-PUMoriond17_Nano02Apr2020_102X_mcRun2_asymptotic_v8_ext1-v1_1.root',\n",
    "                       '/hadoop/cms/store/user/mbryson/WH_hadronic/WH_had_750_1/nanoAOD/MBv30/background__QCD_HT1500to2000_TuneCUETP8M1_13TeV-madgraphMLM-pythia8__RunIISummer16NanoAODv7-PUMoriond17_Nano02Apr2020_102X_mcRun2_asymptotic_v8-v1/merged/background__QCD_HT1500to2000_TuneCUETP8M1_13TeV-madgraphMLM-pythia8__RunIISummer16NanoAODv7-PUMoriond17_Nano02Apr2020_102X_mcRun2_asymptotic_v8-v1_1.root',\n",
    "                       '/hadoop/cms/store/user/mbryson/WH_hadronic/WH_had_750_1/nanoAOD/MBv30/background__QCD_HT1500to2000_TuneCUETP8M1_13TeV-madgraphMLM-pythia8__RunIISummer16NanoAODv7-PUMoriond17_Nano02Apr2020_102X_mcRun2_asymptotic_v8_ext1-v1/merged/background__QCD_HT1500to2000_TuneCUETP8M1_13TeV-madgraphMLM-pythia8__RunIISummer16NanoAODv7-PUMoriond17_Nano02Apr2020_102X_mcRun2_asymptotic_v8_ext1-v1_1.root',\n",
    "                       '/hadoop/cms/store/user/mbryson/WH_hadronic/WH_had_750_1/nanoAOD/MBv30/background__QCD_HT2000toInf_TuneCUETP8M1_13TeV-madgraphMLM-pythia8__RunIISummer16NanoAODv7-PUMoriond17_Nano02Apr2020_102X_mcRun2_asymptotic_v8-v1/merged/background__QCD_HT2000toInf_TuneCUETP8M1_13TeV-madgraphMLM-pythia8__RunIISummer16NanoAODv7-PUMoriond17_Nano02Apr2020_102X_mcRun2_asymptotic_v8-v1_1.root',\n",
    "                       '/hadoop/cms/store/user/mbryson/WH_hadronic/WH_had_750_1/nanoAOD/MBv30/background__QCD_HT2000toInf_TuneCUETP8M1_13TeV-madgraphMLM-pythia8__RunIISummer16NanoAODv7-PUMoriond17_Nano02Apr2020_102X_mcRun2_asymptotic_v8_ext1-v1/merged/background__QCD_HT2000toInf_TuneCUETP8M1_13TeV-madgraphMLM-pythia8__RunIISummer16NanoAODv7-PUMoriond17_Nano02Apr2020_102X_mcRun2_asymptotic_v8_ext1-v1_1.root'\n",
    "                    ],\n",
    "            'TTJets':['/hadoop/cms/store/user/mbryson/WH_hadronic/WH_had_750_1/nanoAOD/MBv30/background__TTJets_SingleLeptFromT_TuneCUETP8M1_13TeV-madgraphMLM-pythia8__RunIISummer16NanoAODv7-PUMoriond17_Nano02Apr2020_102X_mcRun2_asymptotic_v8-v1/merged/background__TTJets_SingleLeptFromT_TuneCUETP8M1_13TeV-madgraphMLM-pythia8__RunIISummer16NanoAODv7-PUMoriond17_Nano02Apr2020_102X_mcRun2_asymptotic_v8-v1_1.root',\n",
    "                      '/hadoop/cms/store/user/mbryson/WH_hadronic/WH_had_750_1/nanoAOD/MBv30/background__TTJets_SingleLeptFromT_TuneCUETP8M1_13TeV-madgraphMLM-pythia8__RunIISummer16NanoAODv7-PUMoriond17_Nano02Apr2020_102X_mcRun2_asymptotic_v8_ext1-v1/merged/background__TTJets_SingleLeptFromT_TuneCUETP8M1_13TeV-madgraphMLM-pythia8__RunIISummer16NanoAODv7-PUMoriond17_Nano02Apr2020_102X_mcRun2_asymptotic_v8_ext1-v1_1.root',\n",
    "                      '/hadoop/cms/store/user/mbryson/WH_hadronic/WH_had_750_1/nanoAOD/MBv30/background__TTJets_SingleLeptFromTbar_TuneCUETP8M1_13TeV-madgraphMLM-pythia8__RunIISummer16NanoAODv7-PUMoriond17_Nano02Apr2020_102X_mcRun2_asymptotic_v8-v1/merged/background__TTJets_SingleLeptFromTbar_TuneCUETP8M1_13TeV-madgraphMLM-pythia8__RunIISummer16NanoAODv7-PUMoriond17_Nano02Apr2020_102X_mcRun2_asymptotic_v8-v1_1.root',\n",
    "                      '/hadoop/cms/store/user/mbryson/WH_hadronic/WH_had_750_1/nanoAOD/MBv30/background__TTJets_SingleLeptFromTbar_TuneCUETP8M1_13TeV-madgraphMLM-pythia8__RunIISummer16NanoAODv7-PUMoriond17_Nano02Apr2020_102X_mcRun2_asymptotic_v8_ext1-v1/merged/background__TTJets_SingleLeptFromTbar_TuneCUETP8M1_13TeV-madgraphMLM-pythia8__RunIISummer16NanoAODv7-PUMoriond17_Nano02Apr2020_102X_mcRun2_asymptotic_v8_ext1-v1_1.root',\n",
    "                      '/hadoop/cms/store/user/mbryson/WH_hadronic/WH_had_750_1/nanoAOD/MBv30/background__TTJets_DiLept_TuneCUETP8M1_13TeV-madgraphMLM-pythia8__RunIISummer16NanoAODv7-PUMoriond17_Nano02Apr2020_102X_mcRun2_asymptotic_v8-v1/merged/background__TTJets_DiLept_TuneCUETP8M1_13TeV-madgraphMLM-pythia8__RunIISummer16NanoAODv7-PUMoriond17_Nano02Apr2020_102X_mcRun2_asymptotic_v8-v1_1.root',\n",
    "                      '/hadoop/cms/store/user/mbryson/WH_hadronic/WH_had_750_1/nanoAOD/MBv30/background__TTJets_DiLept_TuneCUETP8M1_13TeV-madgraphMLM-pythia8__RunIISummer16NanoAODv7-PUMoriond17_Nano02Apr2020_102X_mcRun2_asymptotic_v8_ext1-v1/merged/background__TTJets_DiLept_TuneCUETP8M1_13TeV-madgraphMLM-pythia8__RunIISummer16NanoAODv7-PUMoriond17_Nano02Apr2020_102X_mcRun2_asymptotic_v8_ext1-v1_1.root'\n",
    "                   ]\n",
    "          }\n",
    "\n",
    "output = processor.run_uproot_job(fileset,\n",
    "                                    treename='Events',\n",
    "                                    processor_instance=WHhadProcessor(),\n",
    "                                    executor=processor.futures_executor,\n",
    "                                    executor_args={'workers': 24, 'function_args': {'flatten': False}},\n",
    "                                    chunksize=500000,\n",
    "                                 )\n",
    "     \n",
    "outdir = \"/home/users/mbryson/public_html/dump/WH/\"\n"
   ]
  },
  {
   "cell_type": "code",
   "execution_count": 5,
   "metadata": {},
   "outputs": [
    {
     "name": "stdout",
     "output_type": "stream",
     "text": [
      "MET_pt\n",
      "HT\n",
      "nB\n",
      "nJet\n",
      "nHtag\n",
      "H_pt\n",
      "WHptMET\n"
     ]
    },
    {
     "name": "stderr",
     "output_type": "stream",
     "text": [
      "/home/users/mbryson/miniconda3/envs/analysisenv/lib/python3.8/site-packages/coffea/hist/plot.py:44: RuntimeWarning: All sumw are zero!  Cannot compute meaningful error bars\n",
      "  warnings.warn(\"All sumw are zero!  Cannot compute meaningful error bars\", RuntimeWarning)\n",
      "/home/users/mbryson/miniconda3/envs/analysisenv/lib/python3.8/site-packages/mplhep/plot.py:226: RuntimeWarning: divide by zero encountered in true_divide\n",
      "  binnorms /= np.outer(np.diff(bins), per_hist_norm).T\n",
      "/home/users/mbryson/miniconda3/envs/analysisenv/lib/python3.8/site-packages/mplhep/plot.py:237: RuntimeWarning: invalid value encountered in multiply\n",
      "  h *= density_arr\n",
      "/home/users/mbryson/miniconda3/envs/analysisenv/lib/python3.8/site-packages/mplhep/plot.py:242: RuntimeWarning: invalid value encountered in multiply\n",
      "  _yerr[i] = _yerr[i] * density_arr[i]\n"
     ]
    },
    {
     "data": {
      "image/png": "[encoded data removed]",
      "text/plain": [
       "<Figure size 432x288 with 1 Axes>"
      ]
     },
     "metadata": {
      "needs_background": "light"
     },
     "output_type": "display_data"
    }
   ],
   "source": [
    "for name in histograms:\n",
    "        print (name)\n",
    "        histogram = output[name]\n",
    "        #rebinning\n",
    "        if name == 'MET_pt':\n",
    "            new_met_bins = hist.Bin('pt', r'$E_T^{miss} \\ (GeV)$', 20, 200, 1000)\n",
    "            histogram = histogram.rebin('pt', new_met_bins)\n",
    "        if name == 'nB':\n",
    "            new_nb_bins = hist.Bin('multiplicity', r'$N_{Bjets}$', 6, -0.5 , 5.5)\n",
    "            histogram = histogram.rebin('multiplicity', new_nb_bins)\n",
    "        if name == 'nJet':\n",
    "            new_njet_bins = hist.Bin('multiplicity', r'$N_{jets}$', 11, -0.5 , 10.5)\n",
    "            histogram = histogram.rebin('multiplicity', new_njet_bins)\n",
    "        if name == 'Mbb':\n",
    "                new_mbb_bins = hist.Bin('mass', r'$M_{bb}  \\ GeV$', 60, 0, 200)\n",
    "                histogram = histogram.rebin('mass', new_mbb_bins)\n",
    "        if name == 'Mjj':\n",
    "                new_mjj_bins = hist.Bin('mass', r'$M_{bb}  \\ GeV$', 60, 0, 200)\n",
    "                histogram = histogram.rebin('mass', new_mjj_bins)\n",
    "        if name == 'nHtag':\n",
    "            new_nhtag_bins = hist.Bin('multiplicity', r'$N_{Higgs \\ Tag}$', 11, -0.5 , 10.5)\n",
    "            histogram = histogram.rebin('multiplicity', new_nhtag_bins)\n",
    "        if name == 'H_pt':\n",
    "            new_hpt_bins = hist.Bin('pt', r'$Higgs \\ p_T \\ (GeV)$', 500, 0, 2000)\n",
    "            histogram = histogram.rebin('pt', new_hpt_bins)\n",
    "        if name == 'WHptMET':\n",
    "            new_whptmet_bins = hist.Bin('multiplicity', r'$ \\ p_T(W,H)/E_T^{miss} \\ (GeV)$', 11, -0.5 , 10.5)\n",
    "            histogram = histogram.rebin('multiplicity', new_whptmet_bins)\n",
    "        ax = hist.plot1d(histogram,overlay=\"dataset\", stack=True) \n",
    "        for l in ['linear', 'log']:\n",
    "            saveFig(ax, outdir, name, scale=l)\n",
    "        ax.clear()\n",
    "        ax = hist.plot1d(histogram,overlay=\"dataset\", density=True, stack=False) # make density plots because we don't care about x-sec differences\n",
    "        for l in ['linear', 'log']:\n",
    "            saveFig(ax, outdir, name+'_shape', scale=l)\n",
    "        ax.clear()\n"
   ]
  },
  {
   "cell_type": "code",
   "execution_count": null,
   "metadata": {},
   "outputs": [],
   "source": []
  },
  {
   "cell_type": "code",
   "execution_count": null,
   "metadata": {},
   "outputs": [],
   "source": []
  },
  {
   "cell_type": "code",
   "execution_count": null,
   "metadata": {},
   "outputs": [],
   "source": [
    "  ax = hist.plot1d(histogram,overlay=\"dataset\", density=False, stack=True, \n",
    "                        fill_opts={'alpha': 0.6, 'edgecolor': (0,0,0,1)}\n",
    "                        )\n",
    "        ax.set_yscale('linear') \n",
    "        ax.figure.savefig(os.path.join(outdir, \"{}.pdf\".format(name)))\n",
    "        ax.clear()\n",
    "    "
   ]
  }
 ],
 "metadata": {
  "kernelspec": {
   "display_name": "Python 3",
   "language": "python",
   "name": "python3"
  },
  "language_info": {
   "codemirror_mode": {
    "name": "ipython",
    "version": 3
   },
   "file_extension": ".py",
   "mimetype": "text/x-python",
   "name": "python",
   "nbconvert_exporter": "python",
   "pygments_lexer": "ipython3",
   "version": "3.8.3"
  }
 },
 "nbformat": 4,
 "nbformat_minor": 2
}
